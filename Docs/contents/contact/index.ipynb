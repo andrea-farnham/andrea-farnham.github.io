{
  "cells": [
    {
      "cell_type": "markdown",
      "metadata": {},
      "source": [
        "# Let us know {.unnumbered}\n",
        "\n",
        "\n",
        "\n",
        "```{html}\n",
        "<iframe width=\"640px\" height=\"480px\" src=\"https://forms.office.com/Pages/ResponsePage.aspx?id=2zjkx2LkIkypCsNYsWmAswUwJW7ZD0ZKoSLvAZeFwxRURTk1Rkc3T1BGWFpJNDRJWVNZRkJZN081QSQlQCN0PWcu&embed=true\" frameborder=\"0\" marginwidth=\"0\" marginheight=\"0\" style=\"border: none; max-width:100%; max-height:100vh\" allowfullscreen webkitallowfullscreen mozallowfullscreen msallowfullscreen> </iframe>\n",
        "\n",
        "\n",
        "```"
      ],
      "id": "87ea20e7"
    }
  ],
  "metadata": {
    "kernelspec": {
      "display_name": "Python 3",
      "language": "python",
      "name": "python3"
    }
  },
  "nbformat": 4,
  "nbformat_minor": 5
}