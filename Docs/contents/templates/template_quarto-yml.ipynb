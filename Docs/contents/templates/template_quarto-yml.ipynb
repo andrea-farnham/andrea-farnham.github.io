{
  "cells": [
    {
      "cell_type": "raw",
      "metadata": {},
      "source": [
        "---\n",
        "title: \\_quarto.yml files\n",
        "subtitle: Templates of different Quarto projects\n",
        "author: G.Fraga Gonzalez & E. Furrer\n",
        "date: last-modified\n",
        "categories:\n",
        "  - QUARTO\n",
        "  - YAML\n",
        "format:\n",
        "    html:         \n",
        "        mermaid: \n",
        "          theme: default\n",
        "---"
      ],
      "id": "4d82461f"
    },
    {
      "cell_type": "markdown",
      "metadata": {},
      "source": [
        "When working with more than one dynamic report iit will be very convenient to use Quarto project files. Visit the Quarto official documentation site for more details on [Quarto projects](https://quarto.org/docs/projects/quarto-projects.html). In short, Quarto projects allow us to:\n",
        "\n",
        "-   Render all .qmd files in a directory\n",
        "\n",
        "-   Have common settings across files (share YAML configuration)\n",
        "\n",
        "-   Redirect outputs to another directory (`output-dir`)\n",
        "\n",
        "-   Freeze rendered output, do not re-execute documents unless they changed\n",
        "\n",
        "\n",
        "Project settings are provided by a *_quarto.yml* file. If you have such file in a folder and do `quarto::quarto_render()` in R, it will detect render the files according the settings specified in the _quarto.yml. \n",
        "\n",
        "\n",
        "\n",
        "\n",
        "```{yaml}\n",
        "\n",
        "\n",
        "\n",
        "\n",
        "\n",
        "\n",
        "\n",
        " \n",
        "```"
      ],
      "id": "6819e129"
    }
  ],
  "metadata": {
    "kernelspec": {
      "display_name": "Python 3",
      "language": "python",
      "name": "python3"
    }
  },
  "nbformat": 4,
  "nbformat_minor": 5
}