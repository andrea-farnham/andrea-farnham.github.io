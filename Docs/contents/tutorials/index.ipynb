{
  "cells": [
    {
      "cell_type": "raw",
      "metadata": {},
      "source": [
        "---\n",
        "listing:\n",
        "  categories: true\n",
        "  type: table\n",
        "  id: main-listing\n",
        "  fields: [title, subtitle, date]\n",
        "  sort-ui: true\n",
        "  filter-ui: true\n",
        "  contents: Tutorial*.qmd\n",
        "\n",
        "---"
      ],
      "id": "d3c6bb5e"
    },
    {
      "cell_type": "markdown",
      "metadata": {},
      "source": [
        "# Tutorials {.unnumbered}\n",
        "\n",
        "A series of practical tutorials for managing Open Research Data.\n",
        "Use the table below or the left side bar to navigate through all tutorials.\n",
        "\n",
        "\n",
        ":::{#main-listing}\n",
        "::: \n",
        "\n",
        "\n",
        "##  Version control\n",
        "\n",
        "\n",
        ":::{#git-listing}\n",
        "::: \n",
        "\n",
        "\n",
        "\n",
        "```{yml} \n",
        "---\n",
        "listing:\n",
        "  categories: true\n",
        "  type: table\n",
        "  id: git-listing\n",
        "  fields: [title, subtitle, date]\n",
        "  sort-ui: true\n",
        "  filter-ui: true\n",
        "  contents: Tutorial*.Git.qmd\n",
        "---\n",
        "```"
      ],
      "id": "2151479f"
    }
  ],
  "metadata": {
    "kernelspec": {
      "display_name": "Python 3",
      "language": "python",
      "name": "python3"
    }
  },
  "nbformat": 4,
  "nbformat_minor": 5
}